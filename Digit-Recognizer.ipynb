{
 "cells": [
  {
   "cell_type": "markdown",
   "metadata": {},
   "source": [
    "Initial Imports"
   ]
  },
  {
   "cell_type": "code",
   "execution_count": 39,
   "metadata": {},
   "outputs": [],
   "source": [
    "import torch\n",
    "import pandas as pd\n",
    "import numpy as np\n",
    "from torchvision.datasets import MNIST\n",
    "from torchvision.transforms import ToTensor, ToPILImage\n",
    "from torch import nn"
   ]
  },
  {
   "cell_type": "code",
   "execution_count": 3,
   "metadata": {},
   "outputs": [],
   "source": [
    "mnist_trainset = MNIST('./data', download=True, train=True, transform=ToTensor())\n",
    "mnist_testset = MNIST('./data', download=True, train=False, transform=ToTensor())\n"
   ]
  },
  {
   "cell_type": "markdown",
   "metadata": {},
   "source": [
    "Initial dataset visualing"
   ]
  },
  {
   "cell_type": "code",
   "execution_count": 4,
   "metadata": {},
   "outputs": [],
   "source": [
    "import matplotlib.pyplot as plt\n",
    "\n",
    "def image_grid(image_dataset, rows = 6, columns = 6):\n",
    "    figure = plt.figure(figsize=(8,8))\n",
    "\n",
    "    no_of_pictures = rows * columns\n",
    "\n",
    "    for i in range(1, columns * rows + 1):\n",
    "        sample_idx = torch.randint(len(image_dataset), size=(1,)).item()\n",
    "        img, label = image_dataset[sample_idx]\n",
    "        figure.add_subplot(rows, columns, i)\n",
    "        plt.title(label)\n",
    "        plt.axis('off')\n",
    "        plt.imshow(img, cmap=\"gray\")\n",
    "    plt.show()\n",
    "\n",
    "# image_grid(mnist_trainset, 3, 3)"
   ]
  },
  {
   "cell_type": "markdown",
   "metadata": {},
   "source": [
    "Building the neural network - 1 hidden layers"
   ]
  },
  {
   "cell_type": "code",
   "execution_count": 5,
   "metadata": {},
   "outputs": [
    {
     "name": "stdout",
     "output_type": "stream",
     "text": [
      "NeuralNetwork(\n",
      "  (flatten): Flatten(start_dim=1, end_dim=-1)\n",
      "  (linear_relu_stack): Sequential(\n",
      "    (0): Linear(in_features=784, out_features=512, bias=True)\n",
      "    (1): ReLU()\n",
      "    (2): Linear(in_features=512, out_features=10, bias=True)\n",
      "  )\n",
      ")\n"
     ]
    }
   ],
   "source": [
    "class NeuralNetwork(nn.Module):\n",
    "    def __init__(self):\n",
    "        super(NeuralNetwork, self).__init__()\n",
    "        self.flatten = nn.Flatten()\n",
    "        self.linear_relu_stack = nn.Sequential(\n",
    "            nn.Linear(28*28, 512),\n",
    "            nn.ReLU(),\n",
    "            nn.Linear(512, 10),\n",
    "        )\n",
    "\n",
    "    def forward(self, x):\n",
    "        x = self.flatten(x)\n",
    "        logits = self.linear_relu_stack(x)\n",
    "        return logits\n",
    "\n",
    "model = NeuralNetwork()\n",
    "print(model)"
   ]
  },
  {
   "cell_type": "markdown",
   "metadata": {},
   "source": [
    "Model Hyperparameters"
   ]
  },
  {
   "cell_type": "code",
   "execution_count": 6,
   "metadata": {},
   "outputs": [],
   "source": [
    "from torch.utils.data import DataLoader\n",
    "\n",
    "learning_rate = 1e-3\n",
    "batch_size = 64\n",
    "epochs = 10\n",
    "loss_fn = nn.CrossEntropyLoss()\n",
    "\n",
    "\n",
    "train_dataloader = DataLoader(\n",
    "    dataset=mnist_trainset,\n",
    "    batch_size=64,\n",
    "    shuffle=True,\n",
    "    num_workers=6,\n",
    ")\n",
    "\n",
    "test_dataloader = DataLoader(\n",
    "    dataset=mnist_testset,\n",
    "    batch_size=64,\n",
    "    shuffle=True,\n",
    "    num_workers=6,\n",
    ")"
   ]
  },
  {
   "cell_type": "markdown",
   "metadata": {},
   "source": [
    "Optimization set"
   ]
  },
  {
   "cell_type": "code",
   "execution_count": 7,
   "metadata": {},
   "outputs": [],
   "source": [
    "optimizer = torch.optim.Adam(model.parameters(), lr=learning_rate)\n",
    "\n",
    "def train_loop(dataloader, model, loss_fn, optimizer):\n",
    "\n",
    "    for batch, (X, y) in enumerate(dataloader):\n",
    "        #calculating prediction and loss\n",
    "        pred = model(X)\n",
    "        loss = loss_fn(pred, y)\n",
    "\n",
    "        #backpropagating the calculation\n",
    "        optimizer.zero_grad()\n",
    "        loss.backward()\n",
    "        optimizer.step()\n",
    "\n",
    "        if batch % 99 == 0:\n",
    "            current = batch * len(X)\n",
    "            size = len(dataloader.dataset)\n",
    "            print(f'loss: {loss.item():.2f}, [{current:>5d}/{size:>5d}]')\n",
    "\n",
    "def test_loop(dataloader: DataLoader, model: NeuralNetwork, loss_fn):\n",
    "\n",
    "    num_batches = len(dataloader)\n",
    "    size = len(dataloader.dataset)\n",
    "    correct, test_loss = 0,0\n",
    "\n",
    "    with torch.no_grad():\n",
    "        for batch, (X, y) in enumerate(dataloader):\n",
    "            pred = model(X)\n",
    "            test_loss += loss_fn(pred, y).item()\n",
    "            correct += (pred.argmax(1) == y).type(torch.float64).sum().item()\n",
    "\n",
    "    test_loss /= num_batches\n",
    "    correct /= size\n",
    "\n",
    "    print(f\"Test Error: \\n Accuracy: {(100*correct):>0.1f}%, Avg loss: {test_loss:>8f} \\n\")\n"
   ]
  },
  {
   "cell_type": "markdown",
   "metadata": {},
   "source": [
    "Training the algorithm"
   ]
  },
  {
   "cell_type": "code",
   "execution_count": 8,
   "metadata": {},
   "outputs": [
    {
     "name": "stdout",
     "output_type": "stream",
     "text": [
      "Epoch 1\n",
      "-------------------------------\n",
      "loss: 2.31, [    0/60000]\n",
      "loss: 0.39, [ 6336/60000]\n",
      "loss: 0.43, [12672/60000]\n",
      "loss: 0.31, [19008/60000]\n",
      "loss: 0.23, [25344/60000]\n",
      "loss: 0.38, [31680/60000]\n",
      "loss: 0.16, [38016/60000]\n",
      "loss: 0.24, [44352/60000]\n",
      "loss: 0.28, [50688/60000]\n",
      "loss: 0.03, [57024/60000]\n",
      "Test Error: \n",
      " Accuracy: 96.2%, Avg loss: 0.128330 \n",
      "\n",
      "Epoch 2\n",
      "-------------------------------\n",
      "loss: 0.08, [    0/60000]\n",
      "loss: 0.06, [ 6336/60000]\n",
      "loss: 0.11, [12672/60000]\n",
      "loss: 0.03, [19008/60000]\n",
      "loss: 0.04, [25344/60000]\n",
      "loss: 0.06, [31680/60000]\n",
      "loss: 0.13, [38016/60000]\n",
      "loss: 0.15, [44352/60000]\n",
      "loss: 0.02, [50688/60000]\n",
      "loss: 0.11, [57024/60000]\n",
      "Test Error: \n",
      " Accuracy: 97.2%, Avg loss: 0.089673 \n",
      "\n",
      "Epoch 3\n",
      "-------------------------------\n",
      "loss: 0.01, [    0/60000]\n",
      "loss: 0.08, [ 6336/60000]\n",
      "loss: 0.05, [12672/60000]\n",
      "loss: 0.04, [19008/60000]\n",
      "loss: 0.15, [25344/60000]\n",
      "loss: 0.03, [31680/60000]\n",
      "loss: 0.17, [38016/60000]\n",
      "loss: 0.02, [44352/60000]\n",
      "loss: 0.09, [50688/60000]\n",
      "loss: 0.02, [57024/60000]\n",
      "Test Error: \n",
      " Accuracy: 97.8%, Avg loss: 0.072249 \n",
      "\n",
      "Epoch 4\n",
      "-------------------------------\n",
      "loss: 0.03, [    0/60000]\n",
      "loss: 0.06, [ 6336/60000]\n",
      "loss: 0.09, [12672/60000]\n",
      "loss: 0.04, [19008/60000]\n",
      "loss: 0.07, [25344/60000]\n",
      "loss: 0.05, [31680/60000]\n",
      "loss: 0.01, [38016/60000]\n",
      "loss: 0.02, [44352/60000]\n",
      "loss: 0.01, [50688/60000]\n",
      "loss: 0.08, [57024/60000]\n",
      "Test Error: \n",
      " Accuracy: 97.3%, Avg loss: 0.087844 \n",
      "\n",
      "Epoch 5\n",
      "-------------------------------\n",
      "loss: 0.13, [    0/60000]\n",
      "loss: 0.03, [ 6336/60000]\n",
      "loss: 0.06, [12672/60000]\n",
      "loss: 0.01, [19008/60000]\n",
      "loss: 0.01, [25344/60000]\n",
      "loss: 0.01, [31680/60000]\n",
      "loss: 0.04, [38016/60000]\n",
      "loss: 0.01, [44352/60000]\n",
      "loss: 0.03, [50688/60000]\n",
      "loss: 0.05, [57024/60000]\n",
      "Test Error: \n",
      " Accuracy: 97.8%, Avg loss: 0.071672 \n",
      "\n",
      "Epoch 6\n",
      "-------------------------------\n",
      "loss: 0.00, [    0/60000]\n",
      "loss: 0.01, [ 6336/60000]\n",
      "loss: 0.02, [12672/60000]\n",
      "loss: 0.04, [19008/60000]\n",
      "loss: 0.01, [25344/60000]\n",
      "loss: 0.01, [31680/60000]\n",
      "loss: 0.04, [38016/60000]\n",
      "loss: 0.04, [44352/60000]\n",
      "loss: 0.03, [50688/60000]\n",
      "loss: 0.01, [57024/60000]\n",
      "Test Error: \n",
      " Accuracy: 98.0%, Avg loss: 0.067230 \n",
      "\n",
      "Epoch 7\n",
      "-------------------------------\n",
      "loss: 0.02, [    0/60000]\n",
      "loss: 0.01, [ 6336/60000]\n",
      "loss: 0.10, [12672/60000]\n",
      "loss: 0.01, [19008/60000]\n",
      "loss: 0.01, [25344/60000]\n",
      "loss: 0.00, [31680/60000]\n",
      "loss: 0.00, [38016/60000]\n",
      "loss: 0.06, [44352/60000]\n",
      "loss: 0.03, [50688/60000]\n",
      "loss: 0.00, [57024/60000]\n",
      "Test Error: \n",
      " Accuracy: 98.2%, Avg loss: 0.061435 \n",
      "\n",
      "Epoch 8\n",
      "-------------------------------\n",
      "loss: 0.01, [    0/60000]\n",
      "loss: 0.01, [ 6336/60000]\n",
      "loss: 0.00, [12672/60000]\n",
      "loss: 0.00, [19008/60000]\n",
      "loss: 0.03, [25344/60000]\n",
      "loss: 0.01, [31680/60000]\n",
      "loss: 0.00, [38016/60000]\n",
      "loss: 0.00, [44352/60000]\n",
      "loss: 0.05, [50688/60000]\n",
      "loss: 0.01, [57024/60000]\n",
      "Test Error: \n",
      " Accuracy: 97.9%, Avg loss: 0.071659 \n",
      "\n",
      "Epoch 9\n",
      "-------------------------------\n",
      "loss: 0.03, [    0/60000]\n",
      "loss: 0.02, [ 6336/60000]\n",
      "loss: 0.00, [12672/60000]\n",
      "loss: 0.03, [19008/60000]\n",
      "loss: 0.00, [25344/60000]\n",
      "loss: 0.00, [31680/60000]\n",
      "loss: 0.02, [38016/60000]\n",
      "loss: 0.00, [44352/60000]\n",
      "loss: 0.00, [50688/60000]\n",
      "loss: 0.03, [57024/60000]\n",
      "Test Error: \n",
      " Accuracy: 98.1%, Avg loss: 0.064238 \n",
      "\n",
      "Epoch 10\n",
      "-------------------------------\n",
      "loss: 0.01, [    0/60000]\n",
      "loss: 0.01, [ 6336/60000]\n",
      "loss: 0.01, [12672/60000]\n",
      "loss: 0.00, [19008/60000]\n",
      "loss: 0.00, [25344/60000]\n",
      "loss: 0.00, [31680/60000]\n",
      "loss: 0.01, [38016/60000]\n",
      "loss: 0.00, [44352/60000]\n",
      "loss: 0.00, [50688/60000]\n",
      "loss: 0.01, [57024/60000]\n",
      "Test Error: \n",
      " Accuracy: 97.5%, Avg loss: 0.090470 \n",
      "\n",
      "Done!\n"
     ]
    }
   ],
   "source": [
    "epochs = 10\n",
    "\n",
    "for epoch in range(epochs):\n",
    "    print(f\"Epoch {epoch+1}\\n-------------------------------\")\n",
    "    train_loop(train_dataloader, model, loss_fn, optimizer)\n",
    "    test_loop(test_dataloader, model, loss_fn)\n",
    "print('Done!')\n"
   ]
  },
  {
   "cell_type": "code",
   "execution_count": 55,
   "metadata": {},
   "outputs": [
    {
     "data": {
      "image/png": "[encoded data removed]",
      "text/plain": [
       "<Figure size 800x800 with 12 Axes>"
      ]
     },
     "metadata": {},
     "output_type": "display_data"
    }
   ],
   "source": [
    "sample_size = 12\n",
    "samples_idx = np.random.randint(low=1, high=len(test_dataloader.dataset), size=sample_size)\n",
    "\n",
    "figure = plt.figure(figsize = (8,8))\n",
    "rows = np.ceil(sample_size/3).astype(int)\n",
    "columns = 3\n",
    "\n",
    "i = 0\n",
    "#Predicting and plotting results for each sample\n",
    "for sample in range(sample_size):\n",
    "    i += 1\n",
    "    test_sample, test_target = test_dataloader.dataset[samples_idx[sample]]\n",
    "    pred = model(test_sample).argmax(1).type(torch.float64).item()\n",
    "    figure.add_subplot(rows, columns, i)\n",
    "\n",
    "    plt.title(label=f'target: {test_target} | pred = {pred:.0f}')\n",
    "    plt.axis('off')\n",
    "    plt.imshow(ToPILImage()(test_sample), cmap='gray')\n",
    "plt.show()\n",
    "\n",
    "\n",
    "\n"
   ]
  },
  {
   "cell_type": "code",
   "execution_count": null,
   "metadata": {},
   "outputs": [],
   "source": []
  }
 ],
 "metadata": {
  "kernelspec": {
   "display_name": "Python 3.10.4 64-bit ('MNIST-Analysis')",
   "language": "python",
   "name": "python3"
  },
  "language_info": {
   "codemirror_mode": {
    "name": "ipython",
    "version": 3
   },
   "file_extension": ".py",
   "mimetype": "text/x-python",
   "name": "python",
   "nbconvert_exporter": "python",
   "pygments_lexer": "ipython3",
   "version": "3.10.4"
  },
  "orig_nbformat": 4,
  "vscode": {
   "interpreter": {
    "hash": "42b55283f03cf4fc3896d8a92e1b313b8ff0b1d8524544b8680f060b8a7b08aa"
   }
  }
 },
 "nbformat": 4,
 "nbformat_minor": 2
}
